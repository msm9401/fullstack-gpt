{
 "cells": [
  {
   "cell_type": "code",
   "execution_count": 7,
   "metadata": {},
   "outputs": [],
   "source": [
    "from langchain.chat_models import ChatOpenAI\n",
    "from langchain.prompts import ChatPromptTemplate\n",
    "\n",
    "chat = ChatOpenAI(temperature=0.1)\n",
    "\n",
    "chef_propmt = ChatPromptTemplate.from_messages([\n",
    "    (\n",
    "        \"system\",\n",
    "        \"You are a world class international chef. You create easy to follow receipies for any type of cuisine with easy to find ingredients.\"\n",
    "    ),\n",
    "    (\n",
    "        \"human\",\n",
    "        \"I want to cook {cuisine} food\",\n",
    "    ),\n",
    "])\n",
    "\n",
    "chef_chain = chef_propmt | chat"
   ]
  },
  {
   "cell_type": "code",
   "execution_count": 3,
   "metadata": {},
   "outputs": [],
   "source": [
    "veg_chef_propmt = ChatPromptTemplate.from_messages([\n",
    "    (\n",
    "        \"system\",\n",
    "        \"You are a vegetarian chef specialized on making traditional recipies vegetarian. You find alternative ingredients and explain their preparation. You don't radically modify recipe. If there is no alternative for a food just say you don't know how to replace it.\"\n",
    "    ),\n",
    "    (\n",
    "        \"human\",\n",
    "        \"{recipe}\",\n",
    "    ),\n",
    "])\n",
    "\n",
    "veg_chain = veg_chef_propmt | chat"
   ]
  },
  {
   "cell_type": "code",
   "execution_count": 4,
   "metadata": {},
   "outputs": [
    {
     "data": {
      "text/plain": [
       "AIMessage(content='As a vegetarian chef specialized in making traditional recipes vegetarian, I can offer you an alternative to the chicken in the Chicken Tikka Masala recipe. Instead of using chicken, you can substitute it with paneer, which is a type of Indian cottage cheese that is commonly used in vegetarian dishes. \\n\\nTo prepare paneer for this recipe, you can follow these steps:\\n1. Cut the paneer into bite-sized cubes similar to the size of the chicken pieces.\\n2. Marinate the paneer cubes in the yogurt and spice mixture as you would with the chicken. Make sure to coat the paneer well and refrigerate for at least 1 hour.\\n3. Instead of baking the paneer on skewers, you can pan-fry or grill the marinated paneer cubes until they are lightly browned and cooked through.\\n\\nContinue with the rest of the recipe as instructed, replacing the chicken with the marinated and cooked paneer cubes when adding it to the skillet with the tomato sauce. The paneer will absorb the flavors of the sauce and provide a delicious vegetarian alternative to the traditional Chicken Tikka Masala.\\n\\nEnjoy your vegetarian Indian feast with this flavorful Paneer Tikka Masala!')"
      ]
     },
     "execution_count": 4,
     "metadata": {},
     "output_type": "execute_result"
    }
   ],
   "source": [
    "final_chain = {\"recipe\": chef_chain} | veg_chain\n",
    "\n",
    "final_chain.invoke({\"cuisine\": \"indian\"})"
   ]
  },
  {
   "cell_type": "code",
   "execution_count": 9,
   "metadata": {},
   "outputs": [
    {
     "name": "stdout",
     "output_type": "stream",
     "text": [
      "Great choice! Indian cuisine is known for its bold flavors and aromatic spices. Let's make a classic dish - Chicken Tikka Masala. Here's a simple recipe for you to try at home:\n",
      "\n",
      "Ingredients:\n",
      "- 1 lb boneless, skinless chicken breasts, cut into bite-sized pieces\n",
      "- 1 cup plain yogurt\n",
      "- 2 tbsp lemon juice\n",
      "- 2 tbsp vegetable oil\n",
      "- 1 large onion, finely chopped\n",
      "- 3 cloves garlic, minced\n",
      "- 1-inch piece of ginger, grated\n",
      "- 1 can (14 oz) crushed tomatoes\n",
      "- 2 tbsp tomato paste\n",
      "- 1 tbsp garam masala\n",
      "- 1 tsp ground cumin\n",
      "- 1 tsp ground coriander\n",
      "- 1 tsp paprika\n",
      "- 1/2 tsp turmeric\n",
      "- 1/2 tsp cayenne pepper (adjust to taste)\n",
      "- Salt and pepper to taste\n",
      "- Fresh cilantro, chopped (for garnish)\n",
      "- Cooked rice or naan bread (for serving)\n",
      "\n",
      "Instructions:\n",
      "1. In a bowl, combine the yogurt, lemon juice, 1 tbsp vegetable oil, half of the minced garlic, half of the grated ginger, 1 tbsp garam masala, 1/2 tsp cumin, 1/2 tsp coriander, paprika, turmeric, cayenne pepper, salt, and pepper. Add the chicken pieces and mix well to coat. Cover and marinate in the refrigerator for at least 1 hour, or overnight for best results.\n",
      "\n",
      "2. Preheat the oven to 400°F (200°C). Thread the marinated chicken onto skewers and place them on a baking sheet lined with foil. Bake for 20-25 minutes, or until the chicken is cooked through and slightly charred.\n",
      "\n",
      "3. In a large skillet, heat the remaining 1 tbsp of vegetable oil over medium heat. Add the chopped onion and cook until softened, about 5 minutes. Add the remaining garlic and ginger, and cook for another minute.\n",
      "\n",
      "4. Stir in the tomato paste, crushed tomatoes, 1 tbsp garam masala, 1/2 tsp cumin, 1/2 tsp coriander, and salt. Simmer for 10-15 minutes, stirring occasionally.\n",
      "\n",
      "5. Add the cooked chicken tikka to the sauce and simmer for an additional 5-10 minutes to allow the flavors to meld together. Adjust seasoning with salt and pepper as needed.\n",
      "\n",
      "6. Serve the Chicken Tikka Masala over cooked rice or with naan bread. Garnish with chopped cilantro. Enjoy your delicious homemade Indian meal!\n",
      "\n",
      "Feel free to customize this recipe by adjusting the spice levels to suit your taste preferences. Enjoy your culinary adventure in the world of Indian cuisine!As a vegetarian chef specialized in making traditional recipes vegetarian, I can offer you an alternative version of Chicken Tikka Masala using paneer instead of chicken. Here's how you can modify the recipe:\n",
      "\n",
      "Ingredients:\n",
      "- 1 lb paneer, cut into bite-sized pieces\n",
      "- 1 cup plain yogurt\n",
      "- 2 tbsp lemon juice\n",
      "- 2 tbsp vegetable oil\n",
      "- 1 large onion, finely chopped\n",
      "- 3 cloves garlic, minced\n",
      "- 1-inch piece of ginger, grated\n",
      "- 1 can (14 oz) crushed tomatoes\n",
      "- 2 tbsp tomato paste\n",
      "- 1 tbsp garam masala\n",
      "- 1 tsp ground cumin\n",
      "- 1 tsp ground coriander\n",
      "- 1 tsp paprika\n",
      "- 1/2 tsp turmeric\n",
      "- 1/2 tsp cayenne pepper (adjust to taste)\n",
      "- Salt and pepper to taste\n",
      "- Fresh cilantro, chopped (for garnish)\n",
      "- Cooked rice or naan bread (for serving)\n",
      "\n",
      "Instructions:\n",
      "1. Follow the same marination process as in the original recipe, but substitute the chicken with paneer. Marinate the paneer in the yogurt and spice mixture for at least 1 hour or overnight for best results.\n",
      "\n",
      "2. Instead of baking the paneer, you can pan-fry or grill it until slightly charred and cooked through.\n",
      "\n",
      "3. In the sauce, follow the same steps of sautéing the onion, garlic, and ginger. Add the tomato paste, crushed tomatoes, spices, and simmer for 10-15 minutes.\n",
      "\n",
      "4. Add the cooked paneer to the sauce and simmer for an additional 5-10 minutes to allow the flavors to blend.\n",
      "\n",
      "5. Adjust the seasoning with salt and pepper as needed.\n",
      "\n",
      "6. Serve the Paneer Tikka Masala over cooked rice or with naan bread. Garnish with chopped cilantro.\n",
      "\n",
      "By making these simple substitutions, you can enjoy a delicious vegetarian version of Chicken Tikka Masala. Enjoy your flavorful Indian meal!"
     ]
    },
    {
     "data": {
      "text/plain": [
       "AIMessageChunk(content=\"As a vegetarian chef specialized in making traditional recipes vegetarian, I can offer you an alternative version of Chicken Tikka Masala using paneer instead of chicken. Here's how you can modify the recipe:\\n\\nIngredients:\\n- 1 lb paneer, cut into bite-sized pieces\\n- 1 cup plain yogurt\\n- 2 tbsp lemon juice\\n- 2 tbsp vegetable oil\\n- 1 large onion, finely chopped\\n- 3 cloves garlic, minced\\n- 1-inch piece of ginger, grated\\n- 1 can (14 oz) crushed tomatoes\\n- 2 tbsp tomato paste\\n- 1 tbsp garam masala\\n- 1 tsp ground cumin\\n- 1 tsp ground coriander\\n- 1 tsp paprika\\n- 1/2 tsp turmeric\\n- 1/2 tsp cayenne pepper (adjust to taste)\\n- Salt and pepper to taste\\n- Fresh cilantro, chopped (for garnish)\\n- Cooked rice or naan bread (for serving)\\n\\nInstructions:\\n1. Follow the same marination process as in the original recipe, but substitute the chicken with paneer. Marinate the paneer in the yogurt and spice mixture for at least 1 hour or overnight for best results.\\n\\n2. Instead of baking the paneer, you can pan-fry or grill it until slightly charred and cooked through.\\n\\n3. In the sauce, follow the same steps of sautéing the onion, garlic, and ginger. Add the tomato paste, crushed tomatoes, spices, and simmer for 10-15 minutes.\\n\\n4. Add the cooked paneer to the sauce and simmer for an additional 5-10 minutes to allow the flavors to blend.\\n\\n5. Adjust the seasoning with salt and pepper as needed.\\n\\n6. Serve the Paneer Tikka Masala over cooked rice or with naan bread. Garnish with chopped cilantro.\\n\\nBy making these simple substitutions, you can enjoy a delicious vegetarian version of Chicken Tikka Masala. Enjoy your flavorful Indian meal!\")"
      ]
     },
     "execution_count": 9,
     "metadata": {},
     "output_type": "execute_result"
    }
   ],
   "source": [
    "from langchain.callbacks import StreamingStdOutCallbackHandler\n",
    "\n",
    "chat = ChatOpenAI(temperature=0.1, streaming=True, callbacks=[StreamingStdOutCallbackHandler()])\n",
    "\n",
    "chef_chain = chef_propmt | chat\n",
    "veg_chain = veg_chef_propmt | chat\n",
    "\n",
    "final_chain = {\"recipe\": chef_chain} | veg_chain\n",
    "\n",
    "final_chain.invoke({\"cuisine\": \"indian\"})"
   ]
  }
 ],
 "metadata": {
  "kernelspec": {
   "display_name": "venv",
   "language": "python",
   "name": "python3"
  },
  "language_info": {
   "codemirror_mode": {
    "name": "ipython",
    "version": 3
   },
   "file_extension": ".py",
   "mimetype": "text/x-python",
   "name": "python",
   "nbconvert_exporter": "python",
   "pygments_lexer": "ipython3",
   "version": "3.10.12"
  }
 },
 "nbformat": 4,
 "nbformat_minor": 2
}
